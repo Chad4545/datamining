{
 "cells": [
  {
   "cell_type": "markdown",
   "metadata": {},
   "source": [
    "# Data analysis flow - Naive"
   ]
  },
  {
   "cell_type": "markdown",
   "metadata": {},
   "source": [
    "## Step one\n",
    "\n",
    "- 일단 data가 주어지면, 어떠한 모델이 주어진 data를 잘 설명할 수 있을지, 혹은 주어진 data가 어떤 특성을 지니는지 살펴본다\n",
    "        \n",
    "      (EDA_ Exploratory Data Analysis)\n",
    "\n",
    "## Step two\n",
    "\n",
    "- 위의 과정을 거치고 나면, 어떤 모델을 사용할 것인지 결정한다.\n",
    "\n",
    "- 모델을 결정한다는 것은 어떤 형태의 모델을 쓸건지를 정했다는 것이지, 주어진 data에 가장 적합한 모델은 무엇이냐 에 대한 답은 아니다. \n",
    "\n",
    "- 예를 들어서, 주어진 데이터의 EDA를 마치고 나서 Linear model을 사용하기로 결정했다는 것은 단지 주어진 데이터를 설명하기 위해 linear model을 쓰겠다는 것이지, linear model의 계수를 결정했다는 뜻은 아니다.\n",
    "\n",
    "\n",
    "## Step three\n",
    "\n",
    "- 모델이 결정되고 나면, 모델을 이루는 계수(parameters)들에 대한 Estimation을 해야한다.\n",
    "\n",
    "- parameter의 estimation을 위해선 loss 라는 것을 정해주어야 하는데 loss는 우리가 만든 모델의 위험정도를 함수로 만들어서 정량적으로 측정가능하게 만든것으로 파라미터를 추정할시에 이 loss를 줄이는 방향으로 추정하게 된다.\n",
    "\n",
    "## Step four\n",
    "\n",
    "- esimation 까지 완료하고 나면, 우리가 적합한 모델을 평가를 하는 단계를 거친다. \n",
    "\n",
    "- R^2, AIC, adjusted R^2 등등의 measure가 있다.\n",
    "\n",
    "\n",
    "### summary\n",
    "\n",
    "- 데이터가 주어지면, 그 데이터를 잘 설명할수 있을거 같은 모델을 설정하고\n",
    "\n",
    "- 모델을 설정하고 나면, 모델을 이루는 파라미터들을 loss가 줄어드는 방향으로 estimation(fitting)을 하게 된다.\n",
    "\n",
    "- 추정이 끝나고 나면, 적합된 모델의 성능을 평가하기 위해 R^2, AIC, Predict, Accuracy 등의 measure을 사용하여\n",
    "\n",
    "- 모델의 성능을 평가하게 된다.\n",
    "\n",
    "\n",
    "#### etc\n",
    "\n",
    "- 데이터 분석에서 결과를 바꿀수 있는 요인들 \n",
    "\n",
    "1. 데이터(Scaling, Transformation, 외부변수 플러그인)\n",
    "\n",
    "2. model 바꾸기\n",
    "\n",
    "3. loss 바꾸기\n",
    "\n",
    "4. 모델이 결정되면 estimation은 바뀔 수 없고, \n",
    "\n",
    "5. accessment measure을 바뀔 수 있다. 보통 평가측도는 prediction을 사용하고 통계학에서는 significance\n"
   ]
  },
  {
   "cell_type": "code",
   "execution_count": null,
   "metadata": {},
   "outputs": [],
   "source": []
  }
 ],
 "metadata": {
  "kernelspec": {
   "display_name": "Python [conda env:anaconda3]",
   "language": "python",
   "name": "conda-env-anaconda3-py"
  },
  "language_info": {
   "codemirror_mode": {
    "name": "ipython",
    "version": 3
   },
   "file_extension": ".py",
   "mimetype": "text/x-python",
   "name": "python",
   "nbconvert_exporter": "python",
   "pygments_lexer": "ipython3",
   "version": "3.6.4"
  }
 },
 "nbformat": 4,
 "nbformat_minor": 2
}
