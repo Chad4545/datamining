{
 "cells": [
  {
   "cell_type": "markdown",
   "metadata": {},
   "source": [
    "# 201111774 응용통계학과 박성진\n",
    "\n",
    "## (homework)\n",
    "\n",
    "## L1 , L2 , Huber loss 를 사용한 model 생성후 hyper-parameter Tuning\n",
    "\n",
    "## compare the model performance when the losses are square, least absolute deviation and Huber with AIC and scaled error"
   ]
  },
  {
   "cell_type": "markdown",
   "metadata": {},
   "source": [
    "### 1. 실습데이터 old.sam.for.reg.fit.csv, old.sam.for.reg.pred.csv 활용\n",
    "\n",
    "- simple linear regression을 위해 Response variable 인 sensitivity와 독립변수 V1을 사용 \n",
    "\n",
    "<img src=\"image/data.png\">"
   ]
  },
  {
   "cell_type": "markdown",
   "metadata": {},
   "source": [
    "- train 데이터와 test 데이터 load 후 , 세가지 모델 비교할 matrix 생성\n",
    "<img src=\"image/1.png\">"
   ]
  },
  {
   "cell_type": "markdown",
   "metadata": {},
   "source": [
    "### 2. 모델 적합 - square loss(L2), absolute deviation loss(L1), Huber loss\n",
    "\n",
    "<img src=\"image/2.png\">"
   ]
  },
  {
   "cell_type": "markdown",
   "metadata": {},
   "source": [
    "### 3. AIC와 scaled_error 구현 후 세가지 모델 평가\n",
    "\n",
    "<img src=\"image/3.png\">\n",
    "\n",
    "---\n",
    "\n",
    "<img src=\"image/5.png\">"
   ]
  },
  {
   "cell_type": "markdown",
   "metadata": {},
   "source": [
    "- lm 경우, 모델 성능에 영향을 미치는 hyper parameter가 존재하지 않지만, \n",
    "\n",
    "- rq나 huber은 모델 성능에 영향을 미치는 hyper parameter가 존재"
   ]
  },
  {
   "cell_type": "markdown",
   "metadata": {},
   "source": [
    "### 4. absolute deviation loss의 Tau, Huber loss의 tune 값을 조정\n",
    "\n",
    "#### 1) absolute deviation loss - Tau\n",
    "\n",
    "<img src=\"image/6.png\">\n",
    "\n",
    "<img src=\"image/7.png\">\n",
    "\n",
    "<img src=\"image/8.png\">"
   ]
  },
  {
   "cell_type": "markdown",
   "metadata": {},
   "source": [
    "#### 1) Huber loss - Delta\n",
    "\n",
    "<img src=\"image/9.png\">\n",
    "\n",
    "<img src=\"image/10.png\">\n",
    "\n",
    "<img src=\"image/11.png\">"
   ]
  },
  {
   "cell_type": "markdown",
   "metadata": {},
   "source": [
    "### 5. result"
   ]
  },
  {
   "cell_type": "markdown",
   "metadata": {},
   "source": [
    "<img src=\"image/12.png\">"
   ]
  },
  {
   "cell_type": "markdown",
   "metadata": {},
   "source": [
    "- 모델을 평가할 measure로 AIC, scaled_error를 쓸때 huber loss 의 delta를 0.9444로 할떄의 performance가 가장 좋다"
   ]
  },
  {
   "cell_type": "code",
   "execution_count": null,
   "metadata": {},
   "outputs": [],
   "source": []
  }
 ],
 "metadata": {
  "kernelspec": {
   "display_name": "Python [conda env:anaconda3]",
   "language": "python",
   "name": "conda-env-anaconda3-py"
  },
  "language_info": {
   "codemirror_mode": {
    "name": "ipython",
    "version": 3
   },
   "file_extension": ".py",
   "mimetype": "text/x-python",
   "name": "python",
   "nbconvert_exporter": "python",
   "pygments_lexer": "ipython3",
   "version": "3.6.4"
  }
 },
 "nbformat": 4,
 "nbformat_minor": 2
}
