{
 "cells": [
  {
   "cell_type": "markdown",
   "metadata": {},
   "source": [
    "### 1.5 Estimation based on a loss function\n",
    "\n",
    "- ### Steps for estimating two parameters(coefficients) $B_0$ and $B_1$\n",
    "\n",
    "Determine an appropriate loss function  $L(B_0,B_1)$\n",
    "\n",
    "Find the population mimimizer $ \\hat{B}^{pop}_0$ and $ \\hat{B}^{pop}_1$ by minimizing the risk function\n",
    "\n",
    "$$ R(B_0,B_1) = E\\{L(B_0,B_1)\\} $$\n",
    "\n",
    "with respect to $B_0$ and $B_1$\n",
    "\n",
    "here, note that we often cannot determine the minimizer for some possible reason\n",
    "\n",
    "---\n",
    "\n",
    "- ### For example, we can see that\n",
    "\n",
    "\\begin{eqnarray}\n",
    "(\\hat{B}^{pop}_0,\\hat{B}^{pop}_1) &=& \\operatorname{argmin}_{B_0 \\,,B_1} E(y-B_0-B_1x)^2 \\\\\n",
    "    &=&(\\mu_y - \\hat{B}_1 \\mu_x \\,, \\sigma^2_{xy} \\,/ \\,\\sigma^2_x )  \\qquad\\qquad\\cdots{(6)}\n",
    "\\end{eqnarray}\n",
    "\n",
    "\n",
    "where $\\mu_y = E(y) \\, ,\\sigma^2_{xy}=Cov(x,\\,y) $  and $\\sigma^2_x = Var(x)$\n",
    "\n",
    " - It is impossible to specify the minimizer unless the joint distribution of $x$ and $y$ is known\n",
    " \n",
    "  we do not know $\\mu_x\\,,\\mu_y\\,,\\sigma_x$ and $\\sigma_{xy}$\n",
    "  \n",
    "---  \n",
    "\n",
    "## (Homework) \n",
    "\n",
    "### Prove(6)"
   ]
  },
  {
   "cell_type": "code",
   "execution_count": null,
   "metadata": {},
   "outputs": [],
   "source": []
  }
 ],
 "metadata": {
  "kernelspec": {
   "display_name": "Python [conda env:anaconda3]",
   "language": "python",
   "name": "conda-env-anaconda3-py"
  },
  "language_info": {
   "codemirror_mode": {
    "name": "ipython",
    "version": 3
   },
   "file_extension": ".py",
   "mimetype": "text/x-python",
   "name": "python",
   "nbconvert_exporter": "python",
   "pygments_lexer": "ipython3",
   "version": "3.6.4"
  }
 },
 "nbformat": 4,
 "nbformat_minor": 2
}
