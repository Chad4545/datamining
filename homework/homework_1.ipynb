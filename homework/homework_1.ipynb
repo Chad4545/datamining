{
 "cells": [
  {
   "cell_type": "markdown",
   "metadata": {},
   "source": [
    "## (Homework) \n",
    "\n",
    "### Search the origin of the word \"regression\" by googling and then find the actual meaning of the word at that time\n",
    "\n",
    "- The term __regression__ was coined by Francis Galton in the nineteenth century to describe a biological phenomenon.\n",
    "\n",
    " 회귀라는 용어는 19 세기에 Francis Galton에 의해 생물학적 현상을 설명하기 위해 만들어졌습니다. \n",
    " \n",
    " \n",
    "- The phenomenon was that the heights of descendants of tall ancestors tend to regress down towards a normal average (a phenomenon also known as regression toward the mean).\n",
    "\n",
    " 이 현상은 키가 큰 조상의 자손의 높이가 평균(회귀라는 의미의 현상)으로 퇴보하는 경향이 있다는 것을 나타냅니다.\n",
    " \n",
    " \n",
    "\n",
    "- For Galton, regression had only this biological meaning, but his work was later extended by Udny Yule and Karl Pearson to a more general statistical context.\n",
    "\n",
    " Galton의 경우 회귀는 생물학적 의미만 가지고 있었지만 그의 연구는 나중에 Udny Yule과 Karl Pearson에 의해보다 일반적인 통계적 맥락으로 확장되었습니다.\n",
    " \n",
    " \n",
    " \n",
    " "
   ]
  },
  {
   "cell_type": "markdown",
   "metadata": {},
   "source": [
    "## (Homework) \n",
    "\n",
    "### 1. 3 Interpretation of the model\n",
    "\n",
    "$$ y=f(x)+\\epsilon = B_0 + B_1x +\\epsilon $$\n",
    "\n",
    " - model $f(x)$: conditional expectation of $y \\,given\\,x$\n",
    "\n",
    " - intercept $B_0$ : conditional mean of y given $x=0$\n",
    " $$B_0 = E(y|x = 0) $$\n",
    "\n",
    " - slope $B_1$: difference between two conditional expectations\n",
    " $$B_1 = E(y|x = k+1) - E(y|x=k) ,\\quad \\forall k \\in\\mathbb{R}$$\n",
    "    In this sense, we often say $B_1$ is the effect of x on y\n",
    "    \n",
    "---"
   ]
  },
  {
   "cell_type": "markdown",
   "metadata": {},
   "source": [
    "### 1. 3 .1 Centering/ scaling / standardization   \n",
    "\n",
    "---\n",
    "###  __Centering__ $x$ often helps the interpretation, here centering implies subsituting\n",
    "\n",
    "$$z = x - \\mu_x$$\n",
    "\n",
    "- for $x$, where $\\mu_x = E(x)$ so that the model becomes\n",
    "\n",
    "$$ y=f(x)+\\epsilon = B_0 + B_1x +\\epsilon \\iff y = g(z) = \\alpha_0 + \\alpha_1z + \\epsilon$$\n",
    "\n",
    " - model $g(z)$: conditional expectation of $y \\,given\\,z$\n",
    " \n",
    " $$ g(z) = \\alpha_0 + \\alpha_1z $$"
   ]
  },
  {
   "cell_type": "markdown",
   "metadata": {},
   "source": [
    "- intercept $\\alpha_0$ : conditional mean of y given $z=0 \\iff x = \\mu_x$\n",
    "\\begin{eqnarray}\n",
    "    \\alpha_0 &=& E(y|z=0) \\\\\n",
    "    &=& E(y|x=\\mu_x) \\\\\n",
    "    &=&B_0 + B_1\\mu_x\n",
    "\\end{eqnarray}        \n",
    "\n",
    "- slope $\\alpha_1$: difference between two conditional expectations\n",
    "\n",
    "\\begin{eqnarray}\n",
    "    \\alpha_1 &=& E(y|z=k+1) - E(y|z=k)\\\\\n",
    "       &=&E(y|x=\\mu_x+k+1) - E(y|x=\\mu_x+k)\\\\\n",
    "       &=& B_1\n",
    "\\end{eqnarray}\n",
    "\n",
    "--- "
   ]
  },
  {
   "cell_type": "markdown",
   "metadata": {},
   "source": [
    "###  __Scaling__ $x$ implies subsituting\n",
    "\n",
    "$$z = x /\\sigma_x$$\n",
    "\n",
    "- for $\\sigma_x^2 = Var(x)$\n",
    "\n",
    "\n",
    "$$ y=f(x)+\\epsilon = B_0 + B_1x +\\epsilon \\iff y = g(z) = \\alpha_0 + \\alpha_1z + \\epsilon$$\n",
    "\n",
    " - model $g(z)$: conditional expectation of $y \\,given\\,z$\n",
    " \n",
    "  $$ g(z) = \\alpha_0 + \\alpha_1z $$\n",
    "\n",
    " - intercept $\\alpha_0$ : conditional mean of y given $z=0 \\iff x = 0$\n",
    " \n",
    "\\begin{eqnarray}\n",
    "    \\alpha_0 &=& E(y|z=0) \\\\\n",
    "    &=& E(y|x=0)=B_0 \n",
    "\\end{eqnarray}\n",
    "\n",
    " - slope $\\alpha_1$: difference between two conditional expectations\n",
    "\n",
    "\\begin{eqnarray}\n",
    "    \\alpha_1 &=&E(y|z=k+1) - E(y|z=k)\\\\\n",
    "     &=&E(y|x=\\sigma_x(k+1)) - E(y|x=\\sigma_x(k))\\\\\n",
    "    &=&(B_0 +\\sigma_xB_1k+B_1\\sigma_x) - (B_0 +\\sigma_xB_1k)\\\\\n",
    "    &=&\\sigma_xB_1\n",
    "\\end{eqnarray}\n",
    "\n",
    "\n",
    "\n",
    "---"
   ]
  },
  {
   "cell_type": "markdown",
   "metadata": {},
   "source": [
    "### __Standardization__  $x$ implies subsituting\n",
    " \n",
    "$$z = (x-\\mu_x) /\\sigma_x$$\n",
    "\n",
    "- for $x$, where $\\mu_x = E(x),\\, \\sigma_x^2 = Var(x)$\n",
    "\n",
    "\n",
    "\n",
    "$$ y=f(x)+\\epsilon = B_0 + B_1x +\\epsilon \\iff y = g(z) = \\alpha_0 + \\alpha_1z + \\epsilon$$\n",
    "\n",
    " - model $g(z)$: conditional expectation of $y \\,given\\,z$\n",
    " \n",
    "  $$ g(z) = \\alpha_0 + \\alpha_1z $$\n",
    "\n",
    " - intercept $\\alpha_0$ : conditional mean of y given $z=0 \\iff x = \\mu_x$\n",
    "\\begin{eqnarray} \n",
    "\\alpha_0 &=& E(y|z=0)\\\\ \n",
    "    &=& E(y|x=\\mu_x)=B_0 \n",
    "\\end{eqnarray}\n",
    " - slope $\\alpha_1$: difference between two conditional expectations\n",
    " \n",
    "\\begin{eqnarray}\n",
    "\\alpha_1 &=& E(y|z=k+1) - E(y|z=k)\\\\\n",
    "    &=&E(y|x=\\sigma_x(k+1) + \\mu_x) - E(y|x=\\sigma_x(k)+ \\mu_x)\\\\\n",
    "    &=& (B_0 +\\sigma_xB_1k+B_1\\sigma_x+ \\mu_x) - (B_0 +\\sigma_xB_1k+ \\mu_x)\\\\\n",
    "    &=&\\sigma_xB_1\n",
    "\\end{eqnarray}"
   ]
  },
  {
   "cell_type": "code",
   "execution_count": null,
   "metadata": {},
   "outputs": [],
   "source": []
  }
 ],
 "metadata": {
  "kernelspec": {
   "display_name": "Python [conda env:anaconda3]",
   "language": "python",
   "name": "conda-env-anaconda3-py"
  },
  "language_info": {
   "codemirror_mode": {
    "name": "ipython",
    "version": 3
   },
   "file_extension": ".py",
   "mimetype": "text/x-python",
   "name": "python",
   "nbconvert_exporter": "python",
   "pygments_lexer": "ipython3",
   "version": "3.6.4"
  }
 },
 "nbformat": 4,
 "nbformat_minor": 2
}
