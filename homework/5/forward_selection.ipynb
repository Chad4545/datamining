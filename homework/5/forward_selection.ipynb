{
 "cells": [
  {
   "cell_type": "markdown",
   "metadata": {},
   "source": [
    "# 201111774 응용통계학과 박성진\n",
    "\n",
    "# forward selection implement\n",
    "\n",
    "- R로 구현한 forward selection\n",
    "\n",
    "1. data : old.sam.for.reg.fit.csv, old.sam.for.reg.pred.csv\n",
    "\n",
    "2. model : linear regression\n",
    "\n",
    "3. 측도 : abs-loss\n",
    "\n",
    "- 결과 \n",
    "\n",
    "<img src=\"result_1.png\">\n",
    "\n",
    "- 9번째 추가 변수를 넣었을 떄 까지의 loss가 최적의 loss\n",
    "\n",
    "<img src=\"result_2.png\">\n",
    "\n",
    "<img src=\"result_3.png\">"
   ]
  },
  {
   "cell_type": "code",
   "execution_count": null,
   "metadata": {},
   "outputs": [],
   "source": []
  }
 ],
 "metadata": {
  "kernelspec": {
   "display_name": "Python [conda env:anaconda3]",
   "language": "python",
   "name": "conda-env-anaconda3-py"
  },
  "language_info": {
   "codemirror_mode": {
    "name": "ipython",
    "version": 3
   },
   "file_extension": ".py",
   "mimetype": "text/x-python",
   "name": "python",
   "nbconvert_exporter": "python",
   "pygments_lexer": "ipython3",
   "version": "3.6.4"
  }
 },
 "nbformat": 4,
 "nbformat_minor": 2
}
