{
 "cells": [
  {
   "cell_type": "markdown",
   "metadata": {},
   "source": [
    "# 201111774 응용통계학과 박성진"
   ]
  },
  {
   "cell_type": "markdown",
   "metadata": {},
   "source": [
    "# 1. 변수의 갯수 증감에 따른 비교\n",
    "\n",
    "#### 기본 셋팅 : \n",
    "\n",
    "- 실험의 재현을 위해 set.seed 설정\n",
    "- p = 사용할 설명변수의 갯수\n",
    "- n = 사용할 데이터의 수 (default 10000)\n",
    "- 실험 1에서는 n = 10000으로 고정 후 p 를 1,2,3,...,100 까지 늘려본다.\n",
    "\n",
    "---\n",
    "\n",
    " - **비교 기준은 b와 $\\hat b$의 square loss로 한다.**\n"
   ]
  },
  {
   "cell_type": "markdown",
   "metadata": {},
   "source": [
    "### - error를 구하는 함수\n",
    "<img src=\"image/error1.png\">"
   ]
  },
  {
   "cell_type": "markdown",
   "metadata": {},
   "source": [
    "### - 설명변수를 추가해본다\n",
    "<img src=\"image/ex1.png\">\n",
    "\n",
    "### - 결과 \n",
    "<img src=\"image/ex1_pic.png\">"
   ]
  },
  {
   "cell_type": "markdown",
   "metadata": {},
   "source": [
    "#### 변경 셋팅 : \n",
    "\n",
    "- p = 사용할 설명변수의 갯수\n",
    "- n = 사용할 데이터의 수 (default 10000)\n",
    "- ratio = train/test 비율 (default 8:2)\n",
    "- 실험 1에서는 n = 10000으로 고정 후 p 를 5,6,7,...30 까지 늘려본다.\n",
    "\n",
    "---\n",
    "\n",
    " - **비교 기준은 b와 $\\hat b$의 square loss로 한다.**\n",
    "\n",
    "<img src=\"image/ex2_pic.png\">\n",
    "\n",
    "- 설명변수의 개수가 10개일때 error 는 4.940454e-05 으로 가장 낮았다\n",
    "\n",
    "- **설명변수의 증감에 따른 유의미한 상관성은 없어 보인다**"
   ]
  },
  {
   "cell_type": "markdown",
   "metadata": {},
   "source": [
    "# 2. 샘플의 갯수 증감에 따른 비교\n",
    "\n",
    "\n",
    "#### 기본 셋팅 : \n",
    "\n",
    "- p = 사용할 설명변수의 갯수 (default 10)\n",
    "- n = 사용할 데이터의 수 \n",
    "- ratio = train/test 비율 (default 8:2)\n",
    "- 실험 2에서는 p = 10으로 고정 후 n을 1000, 1100, 1200,...,10000 까지 늘려본다.\n",
    "\n",
    "---\n",
    "\n",
    " - **비교 기준은 b와 $\\hat b$의 square loss로 한다.**\n",
    " \n",
    "<img src=\"image/sample.png\">\n",
    "\n",
    "- **sample size가 증가할수록 error가 감소하는 경향을 보인다.**"
   ]
  },
  {
   "cell_type": "markdown",
   "metadata": {},
   "source": [
    "# 3. 샘플이 normal dist를 따를때, 분산에 따른 비교\n",
    "\n",
    "#### 기본 셋팅 : \n",
    "\n",
    "- p = 사용할 설명변수의 갯수 (default 10)\n",
    "- n = 5000개\n",
    "\n",
    "- 실험 3에서는 p = 10, n = 5000으로 고정후, rnorm의 standard deviation을 0.5부터 3까지 증가시키며 확인\n",
    "\n",
    "---\n",
    "\n",
    " - **비교 기준은 b와 $\\hat b$의 square loss로 한다.**\n",
    " \n",
    " <img src=\"image/std.png\">\n",
    " \n",
    " - **standard deviation이 작을수록 error가 감소하는 경향을 보인다**\n",
    " "
   ]
  },
  {
   "cell_type": "markdown",
   "metadata": {},
   "source": [
    "# 4. 샘플이 t dist를 따를때, 자유도에 따른 비교"
   ]
  },
  {
   "cell_type": "markdown",
   "metadata": {},
   "source": [
    "#### 기본 셋팅 : \n",
    "\n",
    "- p = 사용할 설명변수의 갯수 (default 10)\n",
    "- n = 5000개\n",
    "\n",
    "- 실험 4에서는 p = 10, n = 5000으로 고정후, rt의 Degree of freedom을 1부터 30까지 증가시키며 확인\n",
    "\n",
    "---\n",
    "\n",
    " - **비교 기준은 b와 $\\hat b$의 square loss로 한다.**\n",
    " \n",
    " <img src=\"image/t.png\">\n",
    " \n",
    " - **Degree of freedom이 높을수록 error가 감소하는 경향을 보인다**\n",
    " "
   ]
  },
  {
   "cell_type": "code",
   "execution_count": null,
   "metadata": {},
   "outputs": [],
   "source": []
  }
 ],
 "metadata": {
  "kernelspec": {
   "display_name": "Python [conda env:anaconda3]",
   "language": "python",
   "name": "conda-env-anaconda3-py"
  },
  "language_info": {
   "codemirror_mode": {
    "name": "ipython",
    "version": 3
   },
   "file_extension": ".py",
   "mimetype": "text/x-python",
   "name": "python",
   "nbconvert_exporter": "python",
   "pygments_lexer": "ipython3",
   "version": "3.6.4"
  }
 },
 "nbformat": 4,
 "nbformat_minor": 2
}
