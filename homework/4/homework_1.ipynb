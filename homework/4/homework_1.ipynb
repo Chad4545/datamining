{
 "cells": [
  {
   "cell_type": "markdown",
   "metadata": {},
   "source": [
    "# 1. square loss, abs loss, huber loss \n",
    "\n",
    "# performance measure - R^2, adj.R^2,AIC,pred_error"
   ]
  },
  {
   "cell_type": "code",
   "execution_count": null,
   "metadata": {},
   "outputs": [],
   "source": [
    "'''\n",
    "1. data의 변수를 모두 다 사용(old.sam.for.reg.fit.csv)\n",
    "2. 기본 linear 모델, abs loss 모델, huber loss 모델 모두 사용\n",
    "3. R^2, adj R^2, AIC, pred_error 의 평가지표 모두 사용 \n",
    "\n",
    "다른 tuning parameter 조정 없음\n",
    "'''\n"
   ]
  },
  {
   "cell_type": "markdown",
   "metadata": {},
   "source": [
    "<img src=\"image/rst_matrix.png\">"
   ]
  },
  {
   "cell_type": "markdown",
   "metadata": {},
   "source": [
    "### R^2 , adj R^2:  SST를 SSR, SSE로 분해 가능한 경우는 sq 뿐\n",
    "\n",
    "### AIC : hub > sq > abs\n",
    "\n",
    "### pred_error : hub> abs> sq"
   ]
  },
  {
   "cell_type": "markdown",
   "metadata": {},
   "source": [
    "### R square\n",
    "\n",
    "$\\qquad R^2 = SSR/SST$ \n",
    "\n",
    "$\\qquad R^2$ means the proportion of the variation in the data explained by the model\n",
    "\n",
    "* Note adding more input variables into current model(and hence the model size increases) implies that $R^2$ always increases, no matter what those input variables are."
   ]
  },
  {
   "cell_type": "markdown",
   "metadata": {},
   "source": [
    "<img src=\"image/r2.png\">\n",
    "\n",
    "- with old.sam.for.reg.fit.csv \n"
   ]
  },
  {
   "cell_type": "code",
   "execution_count": null,
   "metadata": {},
   "outputs": [],
   "source": []
  }
 ],
 "metadata": {
  "kernelspec": {
   "display_name": "Python [conda env:anaconda3]",
   "language": "python",
   "name": "conda-env-anaconda3-py"
  },
  "language_info": {
   "codemirror_mode": {
    "name": "ipython",
    "version": 3
   },
   "file_extension": ".py",
   "mimetype": "text/x-python",
   "name": "python",
   "nbconvert_exporter": "python",
   "pygments_lexer": "ipython3",
   "version": "3.6.4"
  }
 },
 "nbformat": 4,
 "nbformat_minor": 2
}
